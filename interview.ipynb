{
 "cells": [
  {
   "cell_type": "raw",
   "metadata": {},
   "source": [
    "\n",
    "Step 1   Go to https://www.amazon.com/\n",
    "Step 2   Search keyword – “baby milk” and scrape below details for products listed on website\n",
    "Product Id / ASIN\n",
    "Product Name\n",
    "Price\n",
    "Sponsored – YES/No\n",
    "Review Count\n",
    "Average Ratings"
   ]
  },
  {
   "cell_type": "code",
   "execution_count": 76,
   "metadata": {},
   "outputs": [],
   "source": [
    "#import libraries\n",
    "import requests\n",
    "from bs4 import BeautifulSoup\n",
    "import csv\n",
    "\n",
    "\n",
    "#connect dataBase \n",
    "import mysql.connector\n",
    "mydb = mysql.connector.connect(\n",
    "host = 'localhost',\n",
    "username = 'root',\n",
    "password = '',\n",
    "database = 'interview'\n",
    ")\n",
    "mysetdb = mydb.cursor()\n",
    "# print(mysetdb)"
   ]
  },
  {
   "cell_type": "code",
   "execution_count": 77,
   "metadata": {},
   "outputs": [],
   "source": [
    "# use header permission for web page data\n",
    "HEADERS = ({'User-Agent':\n",
    "            'Mozilla/5.0 (X11; Linux x86_64) AppleWebKit/537.36 (KHTML, like Gecko) Chrome/44.0.2403.157 Safari/537.36',\n",
    "            'Accept-Language': 'en-US, en;q=0.5'})\n",
    "\n",
    "\n",
    "url = 'https://www.amazon.com/s?k=baby+milk&ref=nb_sb_noss_1'\n",
    "web_url = requests.get(url,headers=HEADERS)\n",
    "soup = BeautifulSoup(web_url.content,'html.parser')\n",
    "data = soup.find_all('div',{'data-component-type':'s-search-result'})\n",
    "data = data[0]"
   ]
  },
  {
   "cell_type": "code",
   "execution_count": 78,
   "metadata": {},
   "outputs": [],
   "source": [
    "#Single Record Fetch\n",
    "# asin = data.get('data-asin')\n",
    "# productname = data.find('span',{'class':'a-size-base-plus'}).text\n",
    "# price =data.find('span','a-price').find('span','a-offscreen').text\n",
    "# sponser = data.find('span',{'class':'a-size-mini'}).text\n",
    "# rCount = data.find('span',{'class':'a-size-base'}).text\n",
    "# arCount = data.i.text"
   ]
  },
  {
   "cell_type": "code",
   "execution_count": 79,
   "metadata": {},
   "outputs": [],
   "source": [
    "def get_data(data):\n",
    "    try:\n",
    "        asin = data.get('data-asin')\n",
    "    except AttributeError:\n",
    "        asin = 'No Asin'\n",
    "    try:\n",
    "        productname = data.find('span',{'class':'a-size-base-plus'}).text\n",
    "    except AttributeError:\n",
    "        productname = 'No Product Name'\n",
    "    try:\n",
    "        price =data.find('span','a-price').find('span','a-offscreen').text\n",
    "    except AttributeError:\n",
    "        price = 'No Product Price'\n",
    "    try:\n",
    "        sponser = data.find('span',{'class':'a-size-mini'}).text\n",
    "        sponser = 'Yes'\n",
    "    except AttributeError:\n",
    "        sponser = 'No'\n",
    "    try:\n",
    "        rCount = data.find('span',{'class':'a-size-base'}).text\n",
    "    except AttributeError:\n",
    "        rCount = 'No Count Ratings'\n",
    "    try:\n",
    "         arCount = data.i.text\n",
    "    except AttributeError:\n",
    "        arCount = 'No Average Count Ratings'\n",
    "    d= (asin,productname,price,sponser,rCount,arCount)\n",
    "    return d"
   ]
  },
  {
   "cell_type": "code",
   "execution_count": 80,
   "metadata": {},
   "outputs": [],
   "source": [
    "def get_url(item):\n",
    "    url = 'https://www.amazon.com/s?k={}'\n",
    "    item = item.replace(' ','+')\n",
    "    url =url.format(item)\n",
    "    url +='&page={}'\n",
    "    return url\n",
    "    "
   ]
  },
  {
   "cell_type": "code",
   "execution_count": 81,
   "metadata": {},
   "outputs": [],
   "source": [
    "def search_item(item):\n",
    "    records = []\n",
    "    for page in range(1,8):\n",
    "        url = get_url(item)\n",
    "        url = url.format(page)\n",
    "        print(url)\n",
    "        web_url = requests.get(url,headers=HEADERS)\n",
    "        soup = BeautifulSoup(web_url.content,'html.parser')\n",
    "        data = soup.find_all('div',{'data-component-type':'s-search-result'})\n",
    "        for row in data:\n",
    "            row = get_data(row)\n",
    "            if(row):\n",
    "                sql = \"INSERT INTO babymilk(asin, productname, price, sponser, rCount, arCount) VALUES (%s,%s,%s,%s,%s,%s)\"\n",
    "                val = (row)\n",
    "                mysetdb.execute(sql,val)\n",
    "                mydb.commit()\n",
    "                records.append(row)\n",
    "\n",
    "#     print(records)\n",
    "    with open ('interview7.csv','w',newline='',encoding='utf-8') as f:\n",
    "        writer = csv.writer(f)\n",
    "        writer.writerow(['asin','productname','price','sponser','rCount','arCount'])\n",
    "        writer.writerows(records)\n",
    "    "
   ]
  },
  {
   "cell_type": "code",
   "execution_count": 82,
   "metadata": {},
   "outputs": [
    {
     "name": "stdout",
     "output_type": "stream",
     "text": [
      "https://www.amazon.com/s?k=baby+milk&page=1\n",
      "https://www.amazon.com/s?k=baby+milk&page=2\n",
      "https://www.amazon.com/s?k=baby+milk&page=3\n",
      "https://www.amazon.com/s?k=baby+milk&page=4\n",
      "https://www.amazon.com/s?k=baby+milk&page=5\n",
      "https://www.amazon.com/s?k=baby+milk&page=6\n",
      "https://www.amazon.com/s?k=baby+milk&page=7\n"
     ]
    }
   ],
   "source": [
    "search_item('baby milk')"
   ]
  },
  {
   "cell_type": "code",
   "execution_count": null,
   "metadata": {},
   "outputs": [],
   "source": []
  }
 ],
 "metadata": {
  "kernelspec": {
   "display_name": "Python 3",
   "language": "python",
   "name": "python3"
  },
  "language_info": {
   "codemirror_mode": {
    "name": "ipython",
    "version": 3
   },
   "file_extension": ".py",
   "mimetype": "text/x-python",
   "name": "python",
   "nbconvert_exporter": "python",
   "pygments_lexer": "ipython3",
   "version": "3.8.3"
  }
 },
 "nbformat": 4,
 "nbformat_minor": 4
}
